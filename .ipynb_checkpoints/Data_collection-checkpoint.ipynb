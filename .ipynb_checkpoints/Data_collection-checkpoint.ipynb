{
 "cells": [
  {
   "cell_type": "code",
   "execution_count": 1,
   "id": "b6a250b2",
   "metadata": {},
   "outputs": [],
   "source": [
    "import numpy as np\n",
    "from Initialization import initialize_Ising\n",
    "from opt_3leg import *\n",
    "from tqdm import tqdm\n",
    "from util import *"
   ]
  },
  {
   "cell_type": "code",
   "execution_count": 2,
   "id": "d59b271a-7a44-4453-afad-1d6cc93b6af7",
   "metadata": {},
   "outputs": [
    {
     "name": "stderr",
     "output_type": "stream",
     "text": [
      "100%|███████████████████████████████████████████| 20/20 [00:33<00:00,  1.69s/it]\n"
     ]
    }
   ],
   "source": [
    "Tc = 2/np.log(1+np.sqrt(2))\n",
    "\n",
    "chi_cut = 32\n",
    "tA = initialize_Ising(Tc)\n",
    "tA,_,norm =  normalize_tensor(tA,tA.transpose(1,2,3,0))\n",
    "for i in tqdm(range(20)):\n",
    "    # tA = filter_C4(tA)\n",
    "    S,_s = SVD12(tA,chi_cut,cutoff = 1e-14)\n",
    "    del _s\n",
    "    S /= S.flatten()[np.argmax(np.abs(S))]\n",
    "    M = S_to_M(S)\n",
    "    np.save(\"S_data/3_leg_S_D_{}_step_{}_new.npy\".format(chi_cut,i+1),S)\n",
    "    tA = np.einsum(\"ijkl,nkjm->mnli\",M,M)\n",
    "    tA /= np.einsum(\"ijij\",tA)"
   ]
  },
  {
   "cell_type": "code",
   "execution_count": 3,
   "id": "a4135667-2488-43a5-bc49-19100ab89df7",
   "metadata": {},
   "outputs": [
    {
     "name": "stdout",
     "output_type": "stream",
     "text": [
      "D: 32, step: 4\n",
      "D: 32, step: 5\n",
      "D: 32, step: 6\n",
      "D: 32, step: 7\n",
      "D: 32, step: 8\n",
      "D: 32, step: 9\n",
      "D: 32, step: 10\n",
      "D: 32, step: 11\n",
      "D: 32, step: 12\n",
      "D: 32, step: 13\n",
      "D: 32, step: 14\n",
      "D: 32, step: 15\n",
      "D: 32, step: 16\n",
      "D: 32, step: 17\n",
      "D: 32, step: 18\n",
      "D: 32, step: 19\n",
      "D: 32, step: 20\n"
     ]
    }
   ],
   "source": [
    "D_list = [32]\n",
    "step_list = np.arange(4,21,1)\n",
    "for D in D_list:\n",
    "    for step in step_list:\n",
    "        print(\"D: {}, step: {}\".format(D,step))\n",
    "        S = np.load(\"S_data/3_leg_S_D_{}_step_{}_new.npy\".format(D,step))\n",
    "        np.save(\"Gauge-fixed_S/S_D_{}_step_{}.npy\".format(D,step),gauge_fix(S))"
   ]
  },
  {
   "cell_type": "code",
   "execution_count": 4,
   "id": "c330e123-e56d-448a-9474-ca54d3e1cca1",
   "metadata": {},
   "outputs": [
    {
     "name": "stdout",
     "output_type": "stream",
     "text": [
      "D: 32, step: 4\n"
     ]
    },
    {
     "name": "stderr",
     "output_type": "stream",
     "text": [
      "100%|████████████████████████████████████████████| 3/3 [00:00<00:00, 726.75it/s]\n"
     ]
    },
    {
     "name": "stdout",
     "output_type": "stream",
     "text": [
      "D: 32, step: 5\n"
     ]
    },
    {
     "name": "stderr",
     "output_type": "stream",
     "text": [
      "100%|███████████████████████████████████████████| 3/3 [00:00<00:00, 1067.62it/s]"
     ]
    },
    {
     "name": "stdout",
     "output_type": "stream",
     "text": [
      "D: 32, step: 6\n"
     ]
    },
    {
     "name": "stderr",
     "output_type": "stream",
     "text": [
      "\n",
      "100%|████████████████████████████████████████████| 3/3 [00:00<00:00, 122.48it/s]\n"
     ]
    },
    {
     "name": "stdout",
     "output_type": "stream",
     "text": [
      "D: 32, step: 7\n"
     ]
    },
    {
     "name": "stderr",
     "output_type": "stream",
     "text": [
      "100%|█████████████████████████████████████████████| 3/3 [00:00<00:00, 85.68it/s]\n"
     ]
    },
    {
     "name": "stdout",
     "output_type": "stream",
     "text": [
      "D: 32, step: 8\n"
     ]
    },
    {
     "name": "stderr",
     "output_type": "stream",
     "text": [
      "100%|█████████████████████████████████████████████| 3/3 [00:00<00:00, 98.87it/s]\n"
     ]
    },
    {
     "name": "stdout",
     "output_type": "stream",
     "text": [
      "D: 32, step: 9\n"
     ]
    },
    {
     "name": "stderr",
     "output_type": "stream",
     "text": [
      "100%|████████████████████████████████████████████| 3/3 [00:00<00:00, 219.65it/s]\n"
     ]
    },
    {
     "name": "stdout",
     "output_type": "stream",
     "text": [
      "D: 32, step: 10\n"
     ]
    },
    {
     "name": "stderr",
     "output_type": "stream",
     "text": [
      "100%|████████████████████████████████████████████| 3/3 [00:00<00:00, 103.29it/s]\n"
     ]
    },
    {
     "name": "stdout",
     "output_type": "stream",
     "text": [
      "D: 32, step: 11\n"
     ]
    },
    {
     "name": "stderr",
     "output_type": "stream",
     "text": [
      "100%|████████████████████████████████████████████| 3/3 [00:00<00:00, 101.11it/s]\n"
     ]
    },
    {
     "name": "stdout",
     "output_type": "stream",
     "text": [
      "D: 32, step: 12\n"
     ]
    },
    {
     "name": "stderr",
     "output_type": "stream",
     "text": [
      "100%|████████████████████████████████████████████| 3/3 [00:00<00:00, 180.38it/s]\n"
     ]
    },
    {
     "name": "stdout",
     "output_type": "stream",
     "text": [
      "D: 32, step: 13\n"
     ]
    },
    {
     "name": "stderr",
     "output_type": "stream",
     "text": [
      "100%|████████████████████████████████████████████| 3/3 [00:00<00:00, 131.98it/s]\n"
     ]
    },
    {
     "name": "stdout",
     "output_type": "stream",
     "text": [
      "D: 32, step: 14\n"
     ]
    },
    {
     "name": "stderr",
     "output_type": "stream",
     "text": [
      "100%|████████████████████████████████████████████| 3/3 [00:00<00:00, 134.98it/s]\n"
     ]
    },
    {
     "name": "stdout",
     "output_type": "stream",
     "text": [
      "D: 32, step: 15\n"
     ]
    },
    {
     "name": "stderr",
     "output_type": "stream",
     "text": [
      "100%|█████████████████████████████████████████████| 3/3 [00:00<00:00, 82.39it/s]\n"
     ]
    },
    {
     "name": "stdout",
     "output_type": "stream",
     "text": [
      "D: 32, step: 16\n"
     ]
    },
    {
     "name": "stderr",
     "output_type": "stream",
     "text": [
      "100%|█████████████████████████████████████████████| 3/3 [00:00<00:00, 86.58it/s]\n"
     ]
    },
    {
     "name": "stdout",
     "output_type": "stream",
     "text": [
      "D: 32, step: 17\n"
     ]
    },
    {
     "name": "stderr",
     "output_type": "stream",
     "text": [
      "100%|█████████████████████████████████████████████| 3/3 [00:00<00:00, 97.69it/s]\n"
     ]
    },
    {
     "name": "stdout",
     "output_type": "stream",
     "text": [
      "D: 32, step: 18\n"
     ]
    },
    {
     "name": "stderr",
     "output_type": "stream",
     "text": [
      "100%|████████████████████████████████████████████| 3/3 [00:00<00:00, 101.03it/s]\n"
     ]
    },
    {
     "name": "stdout",
     "output_type": "stream",
     "text": [
      "D: 32, step: 19\n"
     ]
    },
    {
     "name": "stderr",
     "output_type": "stream",
     "text": [
      "100%|█████████████████████████████████████████████| 3/3 [00:00<00:00, 98.78it/s]\n"
     ]
    },
    {
     "name": "stdout",
     "output_type": "stream",
     "text": [
      "D: 32, step: 20\n"
     ]
    },
    {
     "name": "stderr",
     "output_type": "stream",
     "text": [
      "100%|████████████████████████████████████████████| 3/3 [00:00<00:00, 148.86it/s]\n"
     ]
    }
   ],
   "source": [
    "D_list = [32]\n",
    "step_list = np.arange(4,21,1)\n",
    "for D in D_list:\n",
    "    for step in step_list:\n",
    "        print(\"D: {}, step: {}\".format(D,step))\n",
    "        S = np.load(\"S_data/3_leg_S_D_{}_step_{}_new.npy\".format(D,step))\n",
    "        np.save(\"fptensor/Ising_D_{}_step_{}.npy\".format(D,step),fp_tensor(S))"
   ]
  },
  {
   "cell_type": "code",
   "execution_count": null,
   "id": "86935897-f796-4da6-9960-34e0383c6fff",
   "metadata": {},
   "outputs": [],
   "source": []
  }
 ],
 "metadata": {
  "kernelspec": {
   "display_name": "Python 3 (ipykernel)",
   "language": "python",
   "name": "python3"
  },
  "language_info": {
   "codemirror_mode": {
    "name": "ipython",
    "version": 3
   },
   "file_extension": ".py",
   "mimetype": "text/x-python",
   "name": "python",
   "nbconvert_exporter": "python",
   "pygments_lexer": "ipython3",
   "version": "3.9.12"
  }
 },
 "nbformat": 4,
 "nbformat_minor": 5
}
