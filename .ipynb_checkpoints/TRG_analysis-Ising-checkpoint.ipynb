{
 "cells": [
  {
   "cell_type": "code",
   "execution_count": 1,
   "id": "bd448c09",
   "metadata": {
    "tags": []
   },
   "outputs": [],
   "source": [
    "import numpy as np\n",
    "import scipy\n",
    "import matplotlib.pyplot as plt\n",
    "import time\n",
    "import pandas as pd"
   ]
  },
  {
   "cell_type": "code",
   "execution_count": 2,
   "id": "8778c900-a94f-4478-aaef-833c071a68ec",
   "metadata": {},
   "outputs": [],
   "source": [
    "D_list = [32,40,48,56,64,72,80,84,88,92,96]\n",
    "step_list = np.arange(4,21,1)"
   ]
  },
  {
   "cell_type": "code",
   "execution_count": 3,
   "id": "94084de4",
   "metadata": {
    "scrolled": true
   },
   "outputs": [
    {
     "name": "stdout",
     "output_type": "stream",
     "text": [
      "0 0 0 \t 1.0\n",
      "0 0 1 \t 0.0\n",
      "0 0 2 \t 0.0072\n",
      "0 1 0 \t 0.0\n",
      "0 1 1 \t 0.8148\n",
      "0 1 2 \t -0.0\n",
      "0 2 0 \t -0.0079\n",
      "0 2 1 \t 0.0\n",
      "0 2 2 \t -0.2081\n",
      "1 0 0 \t 0.0\n",
      "1 0 1 \t 0.8148\n",
      "1 0 2 \t -0.0\n",
      "1 1 0 \t 0.7446\n",
      "1 1 1 \t -0.0\n",
      "1 1 2 \t -0.2408\n",
      "1 2 0 \t 0.0\n",
      "1 2 1 \t 0.1271\n",
      "1 2 2 \t 0.0\n",
      "2 0 0 \t -0.0079\n",
      "2 0 1 \t 0.0\n",
      "2 0 2 \t -0.2081\n",
      "2 1 0 \t 0.0\n",
      "2 1 1 \t 0.1271\n",
      "2 1 2 \t 0.0\n",
      "2 2 0 \t 0.1039\n",
      "2 2 1 \t -0.0\n",
      "2 2 2 \t 0.0005\n"
     ]
    }
   ],
   "source": [
    "D = D_list[-1]\n",
    "step = 20\n",
    "\n",
    "S = np.load(\"Gauge-fixed_S/S_D_{}_step_{}.npy\".format(D,step))\n",
    "for i in range(3):\n",
    "    for j in range(3):\n",
    "        for k in range(3):          \n",
    "            print(i,j,k,\"\\t\",np.round(S[i,j,k],4))"
   ]
  },
  {
   "cell_type": "markdown",
   "id": "627f6886",
   "metadata": {},
   "source": [
    "# OPE coefficients\n",
    "## $$S_{ijk}=C_{ijk}l^{\\Delta_i+\\Delta_j+\\Delta_k}2^{\\Delta_k}$$"
   ]
  },
  {
   "cell_type": "code",
   "execution_count": 4,
   "id": "f70b14ae",
   "metadata": {},
   "outputs": [],
   "source": [
    "#Scaling dimension\n",
    "xn = np.array([0,1/8,1])"
   ]
  },
  {
   "cell_type": "code",
   "execution_count": 5,
   "id": "89ed71da",
   "metadata": {},
   "outputs": [
    {
     "name": "stdout",
     "output_type": "stream",
     "text": [
      "0.32240034536257417\n",
      "Characteristic scale x: 2.1932568973874056\n"
     ]
    }
   ],
   "source": [
    "l = S[2,2,0]**0.5\n",
    "print(l)\n",
    "print(\"Characteristic scale x:\",1/np.sqrt(2)/l)"
   ]
  },
  {
   "cell_type": "code",
   "execution_count": 6,
   "id": "5a38e6d4",
   "metadata": {
    "scrolled": true,
    "tags": []
   },
   "outputs": [
    {
     "name": "stdout",
     "output_type": "stream",
     "text": [
      "0 0 0 \t 1.0\n",
      "0 1 1 \t 0.99\n",
      "0 2 2 \t 1.0\n",
      "1 0 1 \t 0.99\n",
      "1 1 0 \t 0.99\n",
      "1 1 2 \t 0.5\n",
      "1 2 1 \t 0.48\n",
      "2 0 2 \t 1.0\n",
      "2 1 1 \t 0.48\n",
      "2 2 0 \t 1.0\n",
      "# of the non-zero combinations:  10\n"
     ]
    }
   ],
   "source": [
    "count = 0\n",
    "for i in range(3):\n",
    "    for j in range(3):\n",
    "        for k in range(3):\n",
    "            c = np.real(S[i,j,k]/l**(xn[i]+xn[j]+xn[k])/2**xn[k])\n",
    "            if np.abs(c)>0.2:\n",
    "                print(i,j,k,\"\\t\",abs(np.round(c,2)))\n",
    "                count += 1\n",
    "print(\"# of the non-zero combinations: \", count)"
   ]
  },
  {
   "cell_type": "markdown",
   "id": "8b52c908",
   "metadata": {},
   "source": [
    "## Finite-size effect"
   ]
  },
  {
   "cell_type": "code",
   "execution_count": 7,
   "id": "e76de98c",
   "metadata": {},
   "outputs": [],
   "source": [
    "step_list = np.arange(4,21,1)\n",
    "L_list = 2*np.sqrt(2)**step_list\n",
    "x_list = []\n",
    "x_list_ep = []\n",
    "for D in D_list:\n",
    "    tmp = []\n",
    "    tmp_ep = []\n",
    "    for i in step_list:\n",
    "        S = np.load(\"Gauge-fixed_S/S_D_{}_step_{}.npy\".format(D,i))\n",
    "        l = S[1,1,0]**4\n",
    "        l_ep = S[2,2,0]**0.5\n",
    "        \n",
    "        tmp.append(1/np.sqrt(2)/l)\n",
    "        tmp_ep.append(1/np.sqrt(2)/l_ep)\n",
    "    x_list.append(tmp)\n",
    "    x_list_ep.append(tmp_ep)\n",
    "x_list = np.array(x_list)\n",
    "x_list_ep = np.array(x_list_ep)\n",
    "x_list_potts = np.load(\"Potts_x.npy\")"
   ]
  },
  {
   "cell_type": "code",
   "execution_count": 8,
   "id": "bf80ef1f",
   "metadata": {},
   "outputs": [
    {
     "data": {
      "image/png": "[encoded data removed]",
      "text/plain": [
       "<Figure size 576x576 with 1 Axes>"
      ]
     },
     "metadata": {
      "needs_background": "light"
     },
     "output_type": "display_data"
    }
   ],
   "source": [
    "plt.figure(figsize=(8,8))\n",
    "\n",
    "plt.rcParams['mathtext.fontset'] = 'cm'\n",
    "plt.rcParams['xtick.labelsize'] = 16\n",
    "plt.rcParams['ytick.labelsize'] = 16\n",
    "\n",
    "plt.ylim(2.1,2.5)\n",
    "plt.rcParams[\"font.family\"] = \"Times New Roman\"\n",
    "# plt.rcParams[‘mathtext.fontset’] =\"Times New Roman\"\n",
    "plt.axhline(np.exp(np.pi/4),linestyle=\":\",label=r\"$x=e^{\\pi/4}$\",color=\"black\")\n",
    "plt.axhline(2.23035,linestyle=\"--\",label=r\"$\\rm{9}$\"+\"-\"+r\"$\\rm{state\\ clock (previous\\ study)}$\",color=\"lime\")\n",
    "plt.plot(L_list, x_list_ep[-1],\".\",label = r\"$\\rm{\\ Ising}$\",markersize=14)\n",
    "plt.plot(L_list, x_list_potts[-1],\".\",label= r\"$\\rm{3}$\"+\"-\"+r\"$\\rm{state\\ Potts}$\",markersize=14)\n",
    "plt.legend(fontsize=20,loc=\"upper right\")\n",
    "plt.xlabel(r\"$L$\",fontsize=28)\n",
    "plt.ylabel(r\"$x(L)$\",fontsize=28)\n",
    "plt.xscale(\"log\")\n",
    "plt.xlim(6,1100)\n",
    "plt.savefig(\"x_fs.png\",bbox_inches=\"tight\", pad_inches=0.05)"
   ]
  },
  {
   "cell_type": "code",
   "execution_count": 9,
   "id": "bdcebce8-7751-4a2f-a91d-1ff772900b5c",
   "metadata": {},
   "outputs": [],
   "source": [
    "def cal_OPE(S,xn,l,D,step_list,m,n,o):\n",
    "    c = []\n",
    "    for i in step_list:\n",
    "        S = np.load(\"Gauge-fixed_S/S_D_{}_step_{}.npy\".format(D,i))\n",
    "        c.append(np.abs(S[m,n,o]/l**(xn[m]+xn[n]+xn[o])/2**xn[o]))\n",
    "    return np.array(c)\n",
    "\n",
    "D = D_list[-1]\n",
    "#l = 1/np.sqrt(2)/2.1934\n",
    "l = 1/np.sqrt(2)/np.exp(np.pi/4)\n",
    "\n",
    "c220 = cal_OPE(S,xn,l,D,step_list,2,2,0)\n",
    "c110 = cal_OPE(S,xn,l,D,step_list,1,1,0)\n",
    "c112 = cal_OPE(S,xn,l,D,step_list,1,1,2)\n",
    "c121 = cal_OPE(S,xn,l,D,step_list,1,2,1)\n",
    "c001 = cal_OPE(S,xn,l,D,step_list,0,0,1)"
   ]
  },
  {
   "cell_type": "code",
   "execution_count": 10,
   "id": "54d59b41",
   "metadata": {},
   "outputs": [
    {
     "data": {
      "image/png": "[encoded data removed]",
      "text/plain": [
       "<Figure size 576x576 with 1 Axes>"
      ]
     },
     "metadata": {
      "needs_background": "light"
     },
     "output_type": "display_data"
    }
   ],
   "source": [
    "plt.figure(figsize=(8,8))\n",
    "plt.rcParams['mathtext.fontset'] = 'cm'\n",
    "plt.rcParams['xtick.labelsize'] = 16\n",
    "plt.rcParams['ytick.labelsize'] = 16\n",
    "\n",
    "plt.plot(L_list, c112,\".\",label = \"$C_{σσε}(L)$\",markersize=14)\n",
    "plt.plot(L_list, c121,\".\",label = \"$C_{σεσ}(L)$\",markersize=14)\n",
    "plt.plot(L_list, c110,\".\",label = \"$C_{σσ1}(L)$\",markersize=14)\n",
    "plt.plot(L_list, c220,\".\",label = \"$C_{εε1}(L)$\",markersize=14)\n",
    "plt.plot(L_list, c001,\".\",label = \"$C_{11σ}(L)$\",markersize=14)\n",
    "plt.ylim(-0.05,1.8)\n",
    "plt.axhline(0.5,linestyle=\":\",label=\"$C_{σσε}(L) = C_{σεσ}(L)=0.5$\",color=\"black\")\n",
    "plt.axhline(1,linestyle=\":\",label=\"$C_{σσ1}(L)=C_{εε1}(L)$ = 1\",color=\"black\")\n",
    "plt.axhline(0,linestyle=\":\",label=\"$C_{11σ}(L)$ = 1\",color=\"black\")\n",
    "plt.legend(borderpad=0.2,fontsize=20,ncol = 2)\n",
    "plt.xlabel(r\"$L$\",fontsize=28)\n",
    "plt.ylabel(r\"$\\rm{OPE\\ coefficients}$\",fontsize=24)\n",
    "plt.xscale(\"log\")\n",
    "plt.savefig(\"OPE_Ising.png\",bbox_inches=\"tight\", pad_inches=0.05)"
   ]
  },
  {
   "cell_type": "markdown",
   "id": "dee62710-1d64-450f-8bed-477d3a786286",
   "metadata": {
    "tags": []
   },
   "source": [
    "## Computer the fixed-point tensor"
   ]
  },
  {
   "cell_type": "code",
   "execution_count": 11,
   "id": "bd71a0d3-b86b-4e9d-a3df-089473ecee1b",
   "metadata": {
    "tags": []
   },
   "outputs": [
    {
     "name": "stdout",
     "output_type": "stream",
     "text": [
      "0 0 0 0 \t 1.0\n",
      "0 0 0 1 \t 0.0\n",
      "0 0 0 2 \t 0.023\n",
      "0 0 1 0 \t 0.0\n",
      "0 0 1 1 \t 0.708\n",
      "0 0 1 2 \t -0.0\n",
      "0 0 2 0 \t 0.023\n",
      "0 0 2 1 \t -0.0\n",
      "0 0 2 2 \t 0.086\n",
      "0 1 0 0 \t 0.0\n",
      "0 1 0 1 \t 0.639\n",
      "0 1 0 2 \t -0.0\n",
      "0 1 1 0 \t 0.708\n",
      "0 1 1 1 \t -0.0\n",
      "0 1 1 2 \t -0.062\n",
      "0 1 2 0 \t -0.0\n",
      "0 1 2 1 \t -0.133\n",
      "0 1 2 2 \t 0.0\n",
      "0 2 0 0 \t 0.023\n",
      "0 2 0 1 \t -0.0\n",
      "0 2 0 2 \t 0.044\n",
      "0 2 1 0 \t -0.0\n",
      "0 2 1 1 \t -0.062\n",
      "0 2 1 2 \t -0.0\n",
      "0 2 2 0 \t 0.086\n",
      "0 2 2 1 \t 0.0\n",
      "0 2 2 2 \t 0.001\n",
      "1 0 0 0 \t 0.0\n",
      "1 0 0 1 \t 0.708\n",
      "1 0 0 2 \t -0.0\n",
      "1 0 1 0 \t 0.639\n",
      "1 0 1 1 \t -0.0\n",
      "1 0 1 2 \t -0.133\n",
      "1 0 2 0 \t -0.0\n",
      "1 0 2 1 \t -0.062\n",
      "1 0 2 2 \t 0.0\n",
      "1 1 0 0 \t 0.708\n",
      "1 1 0 1 \t -0.0\n",
      "1 1 0 2 \t -0.062\n",
      "1 1 1 0 \t -0.0\n",
      "1 1 1 1 \t 0.61\n",
      "1 1 1 2 \t 0.0\n",
      "1 1 2 0 \t -0.062\n",
      "1 1 2 1 \t 0.0\n",
      "1 1 2 2 \t 0.071\n",
      "1 2 0 0 \t -0.0\n",
      "1 2 0 1 \t -0.062\n",
      "1 2 0 2 \t -0.0\n",
      "1 2 1 0 \t -0.133\n",
      "1 2 1 1 \t 0.0\n",
      "1 2 1 2 \t -0.007\n",
      "1 2 2 0 \t 0.0\n",
      "1 2 2 1 \t 0.071\n",
      "1 2 2 2 \t -0.0\n",
      "2 0 0 0 \t 0.023\n",
      "2 0 0 1 \t -0.0\n",
      "2 0 0 2 \t 0.086\n",
      "2 0 1 0 \t -0.0\n",
      "2 0 1 1 \t -0.062\n",
      "2 0 1 2 \t 0.0\n",
      "2 0 2 0 \t 0.044\n",
      "2 0 2 1 \t -0.0\n",
      "2 0 2 2 \t 0.001\n",
      "2 1 0 0 \t -0.0\n",
      "2 1 0 1 \t -0.133\n",
      "2 1 0 2 \t 0.0\n",
      "2 1 1 0 \t -0.062\n",
      "2 1 1 1 \t 0.0\n",
      "2 1 1 2 \t 0.071\n",
      "2 1 2 0 \t -0.0\n",
      "2 1 2 1 \t -0.007\n",
      "2 1 2 2 \t -0.0\n",
      "2 2 0 0 \t 0.086\n",
      "2 2 0 1 \t 0.0\n",
      "2 2 0 2 \t 0.001\n",
      "2 2 1 0 \t 0.0\n",
      "2 2 1 1 \t 0.071\n",
      "2 2 1 2 \t -0.0\n",
      "2 2 2 0 \t 0.001\n",
      "2 2 2 1 \t -0.0\n",
      "2 2 2 2 \t 0.017\n"
     ]
    }
   ],
   "source": [
    "D = D_list[-1]\n",
    "step = 20\n",
    "fp = np.load(\"fptensor/Ising_D_{}_step_{}.npy\".format(D,step))\n",
    "for i in range(3):\n",
    "    for j in range(3):\n",
    "        for k in range(3):\n",
    "            for l in range(3):\n",
    "                print(i,j,k,l,\"\\t\",np.round(fp[i,j,k,l],3))"
   ]
  },
  {
   "cell_type": "code",
   "execution_count": 12,
   "id": "63c11ef8-dbb3-47ae-b336-97e2114fd4c7",
   "metadata": {},
   "outputs": [],
   "source": [
    "# Reference\n",
    "# https://en.wikipedia.org/wiki/Two-dimensional_critical_Ising_model\n",
    "def e4(absz,x =1/2):\n",
    "    prod_z =(absz**6)*(np.sqrt(2)**4*2**2)\n",
    "    prod_z = prod_z**(-1/3)\n",
    "    tmp = (1-x+x**2)/(x**(2/3)*(1-x)**(2/3))\n",
    "    return (prod_z*tmp)**2\n",
    "\n",
    "def ssee(absz, x=1/2):\n",
    "    prod_z = (absz)**(1/4-5/8-3/4)*(np.sqrt(2)**(1/4-5/8)*(2*2*np.sqrt(2)**2)**(-3/16))\n",
    "    tmp  = (1-x/2)/(x**(3/8)*(1-x)**(5/16))\n",
    "    return (prod_z*tmp)**2\n",
    "\n",
    "def sese(absz, x=2):\n",
    "    return 0\n",
    "\n",
    "def s4(absz, x=1/2):\n",
    "    prefactor = (2*absz)**(-4*0.125)\n",
    "    main = (x*(1-x))**(-0.25)\n",
    "    return prefactor*main\n",
    "\n",
    "def ope(ind):\n",
    "    i,j,k= np.sort(ind)\n",
    "    OPE1 = ([[0,0,0],[0,1,1],[0,2,2]])\n",
    "    OPE05 = [1,1,2]\n",
    "    if [i,j,k] in OPE1:\n",
    "        return 1\n",
    "    elif [i,j,k]==OPE05:\n",
    "        return 0.5\n",
    "    else:\n",
    "        return 0\n",
    "    \n",
    "def three_point(zb,ind,dist):\n",
    "    x_set = np.array([xn[ind[i]] for i in range(3)])\n",
    "    delta = np.sum(x_set)\n",
    "    \n",
    "    corr = ope(ind)\n",
    "    for i in range(3):\n",
    "        z = zb*np.sqrt(2)**dist[i]\n",
    "        d = delta - 2*x_set[i-1]\n",
    "        corr /= z**d\n",
    "    return corr\n",
    "\n",
    "def two_point(z_dist,op):\n",
    "    return 1/z_dist**(2*xn[op])"
   ]
  },
  {
   "cell_type": "code",
   "execution_count": 13,
   "id": "79c622fb-a364-4e7a-b4e5-62028a44e43f",
   "metadata": {},
   "outputs": [],
   "source": [
    "D_list = [32,40,48,56,64,72,80,84,88,92,96]\n",
    "step_list = np.arange(4,21,1)\n",
    "fp_list = np.zeros((len(D_list),len(step_list),3,3,3,3))\n",
    "for i,D in enumerate(D_list):\n",
    "    for j,step in enumerate(step_list):\n",
    "        fp_list[i,j] = np.load(\"fptensor/Ising_D_{}_step_{}.npy\".format(D,step))"
   ]
  },
  {
   "cell_type": "code",
   "execution_count": 14,
   "id": "3e8a6342-93cd-4c9e-86ad-18429db7bc16",
   "metadata": {},
   "outputs": [
    {
     "data": {
      "text/plain": [
       "array([0.   , 0.125, 1.   ])"
      ]
     },
     "execution_count": 14,
     "metadata": {},
     "output_type": "execute_result"
    }
   ],
   "source": [
    "xn"
   ]
  },
  {
   "cell_type": "code",
   "execution_count": 15,
   "id": "d44a90e7-502c-46db-8971-f3ee47f5f52f",
   "metadata": {},
   "outputs": [],
   "source": [
    "x = 0.5\n",
    "zb = np.exp(np.pi/2)/2\n",
    "\n",
    "\n",
    "Label_list = [\"σ4\",\"σ2ε2\",\"σεσε\",\"ε4\",\"σσε1\",\"σεσ1\",\"σσσ1\",\"εεε1\",\"σσ11\",\"σ1σ1\",\"εε11\",\"ε1ε1\",\"σε11\"]\n",
    "Exact_value = [s4(zb,x),ssee(zb,x),sese(zb,x),e4(zb,x),three_point(zb,[1,1,2],[1,1,2]),\n",
    "               three_point(zb,[1,2,1],[1,1,2]),0,0,two_point(zb*np.sqrt(2),1),\n",
    "               two_point(zb*2,1),two_point(zb*np.sqrt(2),2),two_point(zb*2,2),0]\n",
    "\n",
    "Numerical_value = [fp_list[-1,-1,1,1,1,1],fp_list[-1,-1,1,1,2,2],fp_list[-1,-1,1,2,1,2],fp_list[-1,-1,2,2,2,2]\n",
    "                  ,fp_list[-1,-1,1,1,2,0],fp_list[-1,-1,1,2,1,0],fp_list[-1,-1,1,1,1,0],fp_list[-1,-1,2,2,2,0]\n",
    "                  ,fp_list[-1,-1,1,1,0,0],fp_list[-1,-1,1,0,1,0],fp_list[-1,-1,2,2,0,0],fp_list[-1,-1,2,0,2,0]\n",
    "                   ,fp_list[-1,-1,1,2,0,0]]\n",
    "df = pd.DataFrame(np.abs([np.round(Exact_value,4),np.round(Numerical_value,4)]),columns=Label_list,index=[\"Four-point funciont\",\"Numerical value\"])"
   ]
  },
  {
   "cell_type": "code",
   "execution_count": 16,
   "id": "ada02413-fa75-4bd6-969a-8ba334d491fe",
   "metadata": {},
   "outputs": [
    {
     "data": {
      "text/html": [
       "<div>\n",
       "<style scoped>\n",
       "    .dataframe tbody tr th:only-of-type {\n",
       "        vertical-align: middle;\n",
       "    }\n",
       "\n",
       "    .dataframe tbody tr th {\n",
       "        vertical-align: top;\n",
       "    }\n",
       "\n",
       "    .dataframe thead th {\n",
       "        text-align: right;\n",
       "    }\n",
       "</style>\n",
       "<table border=\"1\" class=\"dataframe\">\n",
       "  <thead>\n",
       "    <tr style=\"text-align: right;\">\n",
       "      <th></th>\n",
       "      <th>Four-point funciont</th>\n",
       "      <th>Numerical value</th>\n",
       "    </tr>\n",
       "  </thead>\n",
       "  <tbody>\n",
       "    <tr>\n",
       "      <th>σ4</th>\n",
       "      <td>0.6448</td>\n",
       "      <td>0.6097</td>\n",
       "    </tr>\n",
       "    <tr>\n",
       "      <th>σ2ε2</th>\n",
       "      <td>0.0716</td>\n",
       "      <td>0.0714</td>\n",
       "    </tr>\n",
       "    <tr>\n",
       "      <th>σεσε</th>\n",
       "      <td>0.0000</td>\n",
       "      <td>0.0068</td>\n",
       "    </tr>\n",
       "    <tr>\n",
       "      <th>ε4</th>\n",
       "      <td>0.0168</td>\n",
       "      <td>0.0168</td>\n",
       "    </tr>\n",
       "    <tr>\n",
       "      <th>σσε1</th>\n",
       "      <td>0.0765</td>\n",
       "      <td>0.0618</td>\n",
       "    </tr>\n",
       "    <tr>\n",
       "      <th>σεσ1</th>\n",
       "      <td>0.1404</td>\n",
       "      <td>0.1332</td>\n",
       "    </tr>\n",
       "    <tr>\n",
       "      <th>σσσ1</th>\n",
       "      <td>0.0000</td>\n",
       "      <td>0.0000</td>\n",
       "    </tr>\n",
       "    <tr>\n",
       "      <th>εεε1</th>\n",
       "      <td>0.0000</td>\n",
       "      <td>0.0008</td>\n",
       "    </tr>\n",
       "    <tr>\n",
       "      <th>σσ11</th>\n",
       "      <td>0.7363</td>\n",
       "      <td>0.7082</td>\n",
       "    </tr>\n",
       "    <tr>\n",
       "      <th>σ1σ1</th>\n",
       "      <td>0.6752</td>\n",
       "      <td>0.6387</td>\n",
       "    </tr>\n",
       "    <tr>\n",
       "      <th>εε11</th>\n",
       "      <td>0.0864</td>\n",
       "      <td>0.0863</td>\n",
       "    </tr>\n",
       "    <tr>\n",
       "      <th>ε1ε1</th>\n",
       "      <td>0.0432</td>\n",
       "      <td>0.0439</td>\n",
       "    </tr>\n",
       "    <tr>\n",
       "      <th>σε11</th>\n",
       "      <td>0.0000</td>\n",
       "      <td>0.0000</td>\n",
       "    </tr>\n",
       "  </tbody>\n",
       "</table>\n",
       "</div>"
      ],
      "text/plain": [
       "      Four-point funciont  Numerical value\n",
       "σ4                 0.6448           0.6097\n",
       "σ2ε2               0.0716           0.0714\n",
       "σεσε               0.0000           0.0068\n",
       "ε4                 0.0168           0.0168\n",
       "σσε1               0.0765           0.0618\n",
       "σεσ1               0.1404           0.1332\n",
       "σσσ1               0.0000           0.0000\n",
       "εεε1               0.0000           0.0008\n",
       "σσ11               0.7363           0.7082\n",
       "σ1σ1               0.6752           0.6387\n",
       "εε11               0.0864           0.0863\n",
       "ε1ε1               0.0432           0.0439\n",
       "σε11               0.0000           0.0000"
      ]
     },
     "execution_count": 16,
     "metadata": {},
     "output_type": "execute_result"
    }
   ],
   "source": [
    "df.T"
   ]
  },
  {
   "cell_type": "code",
   "execution_count": 17,
   "id": "5b1a8003-3303-4cb3-88af-668c0dd578af",
   "metadata": {},
   "outputs": [
    {
     "data": {
      "image/png": "[encoded data removed]",
      "text/plain": [
       "<Figure size 576x576 with 1 Axes>"
      ]
     },
     "metadata": {
      "needs_background": "light"
     },
     "output_type": "display_data"
    }
   ],
   "source": [
    "plt.figure(figsize=(8,8))\n",
    "zb=np.exp(np.pi/2)/2\n",
    "plt.rcParams['mathtext.fontset'] = 'cm'\n",
    "plt.rcParams['xtick.labelsize'] = 16\n",
    "plt.rcParams['ytick.labelsize'] = 12\n",
    "\n",
    "for i in range(5,len(D_list)):\n",
    "    ssss = s4(zb,1/2)-fp_list[i,:,1,1,1,1]\n",
    "    plt.plot(L_list,ssss,\"+\",label=\"D = \"+str(D_list[i]),color=\"C\"+str(i-4),markersize=14)\n",
    "    ss=two_point(zb*np.sqrt(2),1)-fp_list[i,:,1,1,0,0]\n",
    "    plt.plot(L_list,ss,\"x\",color=\"C\"+str(i-4),markersize=14)\n",
    "\n",
    "plt.plot(L_list,ss[0]*(L_list[0]/L_list)**(1/3),\":\",color=\"lime\",label=r\"$\\propto L^{-1/3}$\")\n",
    "plt.xscale(\"log\") \n",
    "plt.yscale(\"log\")\n",
    "plt.xlabel(r\"$L$\",fontsize=28)\n",
    "plt.ylabel(r\"$\\delta\\langle\\phi_i\\phi_j\\phi_k\\phi_l\\rangle$\",fontsize=24)\n",
    "plt.legend(fontsize=18)\n",
    "plt.title(r\"+ : $δT_{σσσσ}\\ \\ \\times : δT_{σσ11}$\",fontsize=24)\n",
    "plt.savefig(\"4-point_error.png\",bbox_inches=\"tight\", pad_inches=0.05)"
   ]
  }
 ],
 "metadata": {
  "kernelspec": {
   "display_name": "Python 3 (ipykernel)",
   "language": "python",
   "name": "python3"
  },
  "language_info": {
   "codemirror_mode": {
    "name": "ipython",
    "version": 3
   },
   "file_extension": ".py",
   "mimetype": "text/x-python",
   "name": "python",
   "nbconvert_exporter": "python",
   "pygments_lexer": "ipython3",
   "version": "3.9.12"
  }
 },
 "nbformat": 4,
 "nbformat_minor": 5
}
