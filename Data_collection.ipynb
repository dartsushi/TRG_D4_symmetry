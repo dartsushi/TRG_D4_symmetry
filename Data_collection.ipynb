{
 "cells": [
  {
   "cell_type": "code",
   "execution_count": 6,
   "id": "b6a250b2",
   "metadata": {},
   "outputs": [],
   "source": [
    "import numpy as np\n",
    "from Initialization import initialize_Ising\n",
    "from opt_3leg import *\n",
    "from tqdm import tqdm\n",
    "from util import *"
   ]
  },
  {
   "cell_type": "markdown",
   "id": "11816e51-f95a-49dc-836d-2c87f625c7bc",
   "metadata": {},
   "source": [
    "# Collecting of S(L) from TRG\n",
    "\n",
    "\n",
    "Here, we demonstrate how to numerically compute the fixed-point tensor.\n",
    "\n",
    "In order to guarantee the crossing symmetry, we take one of the SVD tensor and patch the other one as a mirror image of the other.\n",
    "\n",
    "In this way, we can prevent unnecessary $D_4$ symmetry breaking from numerical errors."
   ]
  },
  {
   "cell_type": "code",
   "execution_count": 7,
   "id": "d59b271a-7a44-4453-afad-1d6cc93b6af7",
   "metadata": {},
   "outputs": [
    {
     "name": "stderr",
     "output_type": "stream",
     "text": [
      "100%|██████████████████████████| 20/20 [00:34<00:00,  1.75s/it]\n"
     ]
    }
   ],
   "source": [
    "# Collecting data from TRG\n",
    "Tc = 2/np.log(1+np.sqrt(2))\n",
    "\n",
    "chi_cut = 32\n",
    "tA = initialize_Ising(Tc)\n",
    "tA,_,norm =  normalize_tensor(tA,tA.transpose(1,2,3,0))\n",
    "for i in tqdm(range(20)):\n",
    "    # tA = filter_C4(tA)\n",
    "    S,_s = SVD12(tA,chi_cut,cutoff = 1e-14)\n",
    "    del _s\n",
    "    S /= S.flatten()[np.argmax(np.abs(S))]\n",
    "    M = S_to_M(S)\n",
    "    np.save(\"S_data/3_leg_S_D_{}_step_{}.npy\".format(chi_cut,i+1),S)\n",
    "    tA = np.einsum(\"ijkl,nkjm->mnli\",M,M)\n",
    "    tA /= np.einsum(\"ijij\",tA)"
   ]
  },
  {
   "cell_type": "markdown",
   "id": "38609103-4c32-40a3-96d7-ce4d7e6a87f4",
   "metadata": {},
   "source": [
    "\n",
    "\n",
    "# Fixing the gauge to the CFT basis\n",
    "## Gauge-fixing of $S^*$\n",
    "\n",
    "To change the basis for the indices to the CFT one, we need to find a unitary matrix that diagonalizes the transfer matrix of the corresponding index. Then, we apply these projectors to the original indices.\n",
    "\n",
    "This gauge-fixing can be done \"gauge_fix(S)\" function in \"util.py\".\n",
    "\n",
    "In order to reduce the memory cost, we project only on the first three states, which corresponds to the three primary state $1,\\ \\sigma,\\ \\epsilon$ for the Ising CFT. "
   ]
  },
  {
   "cell_type": "code",
   "execution_count": 8,
   "id": "a4135667-2488-43a5-bc49-19100ab89df7",
   "metadata": {},
   "outputs": [
    {
     "name": "stdout",
     "output_type": "stream",
     "text": [
      "D: 32, step: 4\n",
      "D: 32, step: 5\n",
      "D: 32, step: 6\n",
      "D: 32, step: 7\n",
      "D: 32, step: 8\n",
      "D: 32, step: 9\n",
      "D: 32, step: 10\n",
      "D: 32, step: 11\n",
      "D: 32, step: 12\n",
      "D: 32, step: 13\n",
      "D: 32, step: 14\n",
      "D: 32, step: 15\n",
      "D: 32, step: 16\n",
      "D: 32, step: 17\n",
      "D: 32, step: 18\n",
      "D: 32, step: 19\n",
      "D: 32, step: 20\n"
     ]
    }
   ],
   "source": [
    "D_list = [32]\n",
    "step_list = np.arange(4,21,1)\n",
    "for D in D_list:\n",
    "    for step in step_list:\n",
    "        print(\"D: {}, step: {}\".format(D,step))\n",
    "        S = np.load(\"S_data/3_leg_S_D_{}_step_{}.npy\".format(D,step))\n",
    "        np.save(\"Gauge-fixed_S/S_D_{}_step_{}.npy\".format(D,step),gauge_fix(S))"
   ]
  },
  {
   "cell_type": "markdown",
   "id": "98bed4e8-57d7-4070-987c-21855ace59ee",
   "metadata": {},
   "source": [
    "\n",
    "## Gauge-fix of $T^*$\n",
    "We do the same procedure to the four-leg fixed-point tensor using \"fp_tensor(S)\" in \"util.py\".\n",
    "The collected data will be analyzed in \"TRG_analysis-Ising.ipynb\".\n",
    "\n",
    "In the directories \"/Gauge-fixed/\" and \"/fptensor/\", we prepared the results from higher bond dimensions up to $D=96$."
   ]
  },
  {
   "cell_type": "code",
   "execution_count": 9,
   "id": "c330e123-e56d-448a-9474-ca54d3e1cca1",
   "metadata": {},
   "outputs": [
    {
     "name": "stdout",
     "output_type": "stream",
     "text": [
      "D: 32, step: 4\n"
     ]
    },
    {
     "name": "stderr",
     "output_type": "stream",
     "text": [
      "100%|███████████████████████████| 3/3 [00:00<00:00, 701.43it/s]\n"
     ]
    },
    {
     "name": "stdout",
     "output_type": "stream",
     "text": [
      "D: 32, step: 5\n"
     ]
    },
    {
     "name": "stderr",
     "output_type": "stream",
     "text": [
      "100%|██████████████████████████| 3/3 [00:00<00:00, 1057.83it/s]"
     ]
    },
    {
     "name": "stdout",
     "output_type": "stream",
     "text": [
      "D: 32, step: 6\n"
     ]
    },
    {
     "name": "stderr",
     "output_type": "stream",
     "text": [
      "\n",
      "100%|███████████████████████████| 3/3 [00:00<00:00, 179.87it/s]\n"
     ]
    },
    {
     "name": "stdout",
     "output_type": "stream",
     "text": [
      "D: 32, step: 7\n"
     ]
    },
    {
     "name": "stderr",
     "output_type": "stream",
     "text": [
      "100%|███████████████████████████| 3/3 [00:00<00:00, 158.40it/s]\n"
     ]
    },
    {
     "name": "stdout",
     "output_type": "stream",
     "text": [
      "D: 32, step: 8\n"
     ]
    },
    {
     "name": "stderr",
     "output_type": "stream",
     "text": [
      "100%|███████████████████████████| 3/3 [00:00<00:00, 221.09it/s]\n"
     ]
    },
    {
     "name": "stdout",
     "output_type": "stream",
     "text": [
      "D: 32, step: 9\n"
     ]
    },
    {
     "name": "stderr",
     "output_type": "stream",
     "text": [
      "100%|███████████████████████████| 3/3 [00:00<00:00, 124.27it/s]\n"
     ]
    },
    {
     "name": "stdout",
     "output_type": "stream",
     "text": [
      "D: 32, step: 10\n"
     ]
    },
    {
     "name": "stderr",
     "output_type": "stream",
     "text": [
      "100%|███████████████████████████| 3/3 [00:00<00:00, 250.56it/s]\n"
     ]
    },
    {
     "name": "stdout",
     "output_type": "stream",
     "text": [
      "D: 32, step: 11\n"
     ]
    },
    {
     "name": "stderr",
     "output_type": "stream",
     "text": [
      "100%|████████████████████████████| 3/3 [00:00<00:00, 74.86it/s]\n"
     ]
    },
    {
     "name": "stdout",
     "output_type": "stream",
     "text": [
      "D: 32, step: 12\n"
     ]
    },
    {
     "name": "stderr",
     "output_type": "stream",
     "text": [
      "100%|████████████████████████████| 3/3 [00:00<00:00, 93.05it/s]\n"
     ]
    },
    {
     "name": "stdout",
     "output_type": "stream",
     "text": [
      "D: 32, step: 13\n"
     ]
    },
    {
     "name": "stderr",
     "output_type": "stream",
     "text": [
      "100%|███████████████████████████| 3/3 [00:00<00:00, 236.11it/s]\n"
     ]
    },
    {
     "name": "stdout",
     "output_type": "stream",
     "text": [
      "D: 32, step: 14\n"
     ]
    },
    {
     "name": "stderr",
     "output_type": "stream",
     "text": [
      "100%|███████████████████████████| 3/3 [00:00<00:00, 195.49it/s]\n"
     ]
    },
    {
     "name": "stdout",
     "output_type": "stream",
     "text": [
      "D: 32, step: 15\n"
     ]
    },
    {
     "name": "stderr",
     "output_type": "stream",
     "text": [
      "100%|███████████████████████████| 3/3 [00:00<00:00, 104.12it/s]\n"
     ]
    },
    {
     "name": "stdout",
     "output_type": "stream",
     "text": [
      "D: 32, step: 16\n"
     ]
    },
    {
     "name": "stderr",
     "output_type": "stream",
     "text": [
      "100%|███████████████████████████| 3/3 [00:00<00:00, 153.96it/s]\n"
     ]
    },
    {
     "name": "stdout",
     "output_type": "stream",
     "text": [
      "D: 32, step: 17\n"
     ]
    },
    {
     "name": "stderr",
     "output_type": "stream",
     "text": [
      "100%|███████████████████████████| 3/3 [00:00<00:00, 228.49it/s]\n"
     ]
    },
    {
     "name": "stdout",
     "output_type": "stream",
     "text": [
      "D: 32, step: 18\n"
     ]
    },
    {
     "name": "stderr",
     "output_type": "stream",
     "text": [
      "100%|███████████████████████████| 3/3 [00:00<00:00, 228.45it/s]\n"
     ]
    },
    {
     "name": "stdout",
     "output_type": "stream",
     "text": [
      "D: 32, step: 19\n"
     ]
    },
    {
     "name": "stderr",
     "output_type": "stream",
     "text": [
      "100%|████████████████████████████| 3/3 [00:00<00:00, 81.60it/s]\n"
     ]
    },
    {
     "name": "stdout",
     "output_type": "stream",
     "text": [
      "D: 32, step: 20\n"
     ]
    },
    {
     "name": "stderr",
     "output_type": "stream",
     "text": [
      "100%|███████████████████████████| 3/3 [00:00<00:00, 108.61it/s]\n"
     ]
    }
   ],
   "source": [
    "D_list = [32]\n",
    "step_list = np.arange(4,21,1)\n",
    "for D in D_list:\n",
    "    for step in step_list:\n",
    "        print(\"D: {}, step: {}\".format(D,step))\n",
    "        S = np.load(\"S_data/3_leg_S_D_{}_step_{}.npy\".format(D,step))\n",
    "        np.save(\"fptensor/Ising_D_{}_step_{}.npy\".format(D,step),fp_tensor(S))"
   ]
  }
 ],
 "metadata": {
  "kernelspec": {
   "display_name": "Python 3 (ipykernel)",
   "language": "python",
   "name": "python3"
  },
  "language_info": {
   "codemirror_mode": {
    "name": "ipython",
    "version": 3
   },
   "file_extension": ".py",
   "mimetype": "text/x-python",
   "name": "python",
   "nbconvert_exporter": "python",
   "pygments_lexer": "ipython3",
   "version": "3.9.12"
  }
 },
 "nbformat": 4,
 "nbformat_minor": 5
}
